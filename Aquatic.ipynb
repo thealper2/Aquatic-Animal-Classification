{
 "cells": [
  {
   "cell_type": "markdown",
   "id": "b02e9397-24e4-496b-bf87-7c9410640c30",
   "metadata": {},
   "source": [
    "# Import Libraries"
   ]
  },
  {
   "cell_type": "code",
   "execution_count": null,
   "id": "4b3301cb-f03c-4485-92c8-2125d8420269",
   "metadata": {},
   "outputs": [],
   "source": [
    "import numpy as np\n",
    "import pandas as pd\n",
    "import matplotlib.pyplot as plt\n",
    "import seaborn as sns\n",
    "import tensorflow as tf\n",
    "import os\n",
    "import cv2\n",
    "\n",
    "from sklearn.preprocessing import LabelEncoder\n",
    "\n",
    "from sklearn.metrics import confusion_matrix, classification_report\n",
    "\n",
    "from tensorflow.keras.preprocessing.image import ImageDataGenerator\n",
    "from sklearn.model_selection import train_test_split\n",
    "from tensorflow.keras.applications import MobileNetV2\n",
    "from tensorflow.keras.layers import GlobalAveragePooling2D, Dense\n",
    "from tensorflow.keras.models import Model\n",
    "from tensorflow.keras.callbacks import EarlyStopping\n",
    "from tensorflow.keras.preprocessing.image import load_img, img_to_array\n",
    "\n",
    "from sklearn.model_selection import train_test_split\n",
    "\n",
    "gpus = tf.config.experimental.list_physical_devices(\"GPU\")\n",
    "if gpus:\n",
    "    try:\n",
    "        for gpu in gpus:\n",
    "            tf.config.experimental.set_memory_growth(gpu, True)\n",
    "\n",
    "        logical_gpus = tf.config.experimental.list_logical_devices(\"GPU\")\n",
    "        print(len(gpus), \"Physical GPUs.\")\n",
    "        print(len(logical_gpus), \"Logical GPUs.\")\n",
    "\n",
    "    except Exception as e:\n",
    "        print(e)"
   ]
  },
  {
   "cell_type": "markdown",
   "id": "5abf908f-ae9d-4486-b5d3-eda1faccc5e4",
   "metadata": {},
   "source": [
    "# Load Data"
   ]
  },
  {
   "cell_type": "code",
   "execution_count": null,
   "id": "222c96ae-e320-4e5b-9834-8f080770b715",
   "metadata": {},
   "outputs": [],
   "source": [
    "root_dir = \"/mnt/hdd/Datasets/aquatic_animals\"\n",
    "folders = os.listdir(root_dir)\n",
    "folders"
   ]
  },
  {
   "cell_type": "code",
   "execution_count": null,
   "id": "5825abf3-c6cb-4217-adf3-4b821d6508e0",
   "metadata": {},
   "outputs": [],
   "source": [
    "data = []\n",
    "img_paths = []\n",
    "labels = []\n",
    "\n",
    "for label in folders:\n",
    "    path = f'{root_dir}/{label}/'\n",
    "    folder_data = os.listdir(path)\n",
    "    for image_path in folder_data:\n",
    "        img_path = os.path.join(path, image_path)\n",
    "        img = cv2.imread(path + image_path)\n",
    "        img = cv2.resize(img, (224, 224))\n",
    "        data.append(np.array(img))\n",
    "        labels.append(label)\n",
    "        img_paths.append(img_path)"
   ]
  },
  {
   "cell_type": "code",
   "execution_count": null,
   "id": "94d3d77c-a39f-4189-adde-686b5bf49f23",
   "metadata": {},
   "outputs": [],
   "source": [
    "data = np.array(data)\n",
    "labels = np.array(labels)\n",
    "img_paths = np.array(img_paths)"
   ]
  },
  {
   "cell_type": "code",
   "execution_count": null,
   "id": "10c71fae-7323-424b-8519-2cd3fb6ee17c",
   "metadata": {},
   "outputs": [],
   "source": [
    "data.shape, labels.shape, img_paths.shape"
   ]
  },
  {
   "cell_type": "code",
   "execution_count": null,
   "id": "58a6da76-2a0a-4587-b2cb-fb14fa759c39",
   "metadata": {},
   "outputs": [],
   "source": [
    "df = pd.DataFrame({\"Path\": img_paths, \"Label\": labels})\n",
    "df.head()"
   ]
  },
  {
   "cell_type": "code",
   "execution_count": null,
   "id": "e4f05a83-8c0a-4c92-90a6-5aa9798a9b82",
   "metadata": {},
   "outputs": [],
   "source": [
    "def visualize_df(df: pd.DataFrame):\n",
    "    fig, axes = plt.subplots(4, 4, figsize=(12, 12))\n",
    "    \n",
    "    for i, ax in enumerate(axes.ravel()):\n",
    "        if i < len(df):\n",
    "            img_path = df.sample(frac=1).iloc[i][\"Path\"]\n",
    "            label = df.sample(frac=1).iloc[i][\"Label\"]\n",
    "            \n",
    "            img = plt.imread(img_path)\n",
    "            ax.imshow(img)\n",
    "            ax.set_title(label)\n",
    "            ax.axis(\"off\")\n",
    "        else:\n",
    "            ax.axis(\"off\")\n",
    "    \n",
    "    plt.tight_layout()\n",
    "    plt.show()"
   ]
  },
  {
   "cell_type": "code",
   "execution_count": null,
   "id": "2ae339a3-0dd0-4185-88e6-6207e2846110",
   "metadata": {},
   "outputs": [],
   "source": [
    "visualize_df(df)"
   ]
  },
  {
   "cell_type": "markdown",
   "id": "94da1da8-4c48-43ea-9749-f8de1c763554",
   "metadata": {},
   "source": [
    "# Model"
   ]
  },
  {
   "cell_type": "code",
   "execution_count": null,
   "id": "d3d9a11a-877b-49ba-a9cc-09a937fc3c07",
   "metadata": {},
   "outputs": [],
   "source": [
    "df = pd.DataFrame({\"file_path\": img_paths, \"label\": labels})\n",
    "df.head()"
   ]
  },
  {
   "cell_type": "code",
   "execution_count": null,
   "id": "0e98e19e-c019-48ab-ad6a-642c0a2ee04c",
   "metadata": {},
   "outputs": [],
   "source": [
    "df.shape"
   ]
  },
  {
   "cell_type": "code",
   "execution_count": null,
   "id": "e5845677-0c77-4c70-a95d-1a1b4ed1be87",
   "metadata": {},
   "outputs": [],
   "source": [
    "train_data = ImageDataGenerator(\n",
    "    rescale=1./255,\n",
    "    horizontal_flip=True,\n",
    "    vertical_flip=True,\n",
    "    width_shift_range=0.2,\n",
    "    height_shift_range=0.2,\n",
    "    rotation_range=45,\n",
    "    fill_mode=\"nearest\"\n",
    ")\n",
    "\n",
    "test_data = ImageDataGenerator(\n",
    "    rescale=1./255\n",
    ")\n",
    "\n",
    "valid_data = ImageDataGenerator(\n",
    "    rescale=1./255\n",
    ")"
   ]
  },
  {
   "cell_type": "code",
   "execution_count": null,
   "id": "c64c02d6-3902-4449-aa2e-9771bce282b9",
   "metadata": {},
   "outputs": [],
   "source": [
    "def train_validate_test_split(df):\n",
    "    np.random.seed(42)\n",
    "    perm = np.random.permutation(df.index)\n",
    "    train_end = int(.8 * len(df.index))\n",
    "    validate_end = int(.1 * len(df.index)) + train_end\n",
    "    train = df.iloc[perm[:train_end]]\n",
    "    validate = df.iloc[perm[train_end:validate_end]]\n",
    "    test = df.iloc[perm[validate_end:]]\n",
    "    return train, validate, test\n",
    "\n",
    "df_train, df_validation, df_test = train_validate_test_split(df)\n",
    "print(len(df_train), len(df_validation), len(df_test))"
   ]
  },
  {
   "cell_type": "code",
   "execution_count": null,
   "id": "1ab08976-d89c-478c-9140-5fe37e75491b",
   "metadata": {},
   "outputs": [],
   "source": [
    "train_gen = train_data.flow_from_dataframe(\n",
    "    dataframe=df_train,\n",
    "    x_col=\"file_path\",\n",
    "    y_col=\"label\",\n",
    "    batch_size=32,\n",
    "    shuffle=True,\n",
    "    class_mode=\"categorical\",\n",
    "    target_size=(224, 224),\n",
    ")\n",
    "\n",
    "valid_gen = valid_data.flow_from_dataframe(\n",
    "    dataframe=df_validation,\n",
    "    x_col=\"file_path\",\n",
    "    y_col=\"label\",\n",
    "    batch_size=32,\n",
    "    shuffle=True,\n",
    "    class_mode=\"categorical\",\n",
    "    target_size=(224, 224),\n",
    ")\n",
    "\n",
    "test_gen = test_data.flow_from_dataframe(\n",
    "    dataframe=df_test,\n",
    "    x_col=\"file_path\",\n",
    "    y_col=None,\n",
    "    batch_size=32,\n",
    "    shuffle=True,\n",
    "    class_mode=None,\n",
    "    target_size=(224, 224),\n",
    ")"
   ]
  },
  {
   "cell_type": "markdown",
   "id": "c123ae7d-a108-4699-bf67-72af2fdf05a9",
   "metadata": {},
   "source": [
    "# MobileNetV2"
   ]
  },
  {
   "cell_type": "code",
   "execution_count": null,
   "id": "37a7051d-8f2a-4cd2-91c3-08bdfed8020f",
   "metadata": {},
   "outputs": [],
   "source": [
    "base_model = MobileNetV2(weights=\"imagenet\", include_top=False, input_shape=(224, 224, 3))\n",
    "\n",
    "for layer in base_model.layers:\n",
    "    layer.trainable = False"
   ]
  },
  {
   "cell_type": "code",
   "execution_count": null,
   "id": "8e805d20-ae7b-49dc-834d-980da056c40a",
   "metadata": {},
   "outputs": [],
   "source": [
    "x = base_model.output\n",
    "x = GlobalAveragePooling2D()(x)\n",
    "x = Dense(1024, activation=\"relu\")(x)\n",
    "predictions = Dense(8, activation=\"softmax\")(x)\n",
    "\n",
    "model = Model(inputs=base_model.input, outputs=predictions)"
   ]
  },
  {
   "cell_type": "code",
   "execution_count": null,
   "id": "76fe06d3-2643-4f63-8304-da900bb5a5a2",
   "metadata": {},
   "outputs": [],
   "source": [
    "model.compile(optimizer=\"adam\", loss=\"categorical_crossentropy\", metrics=[\"accuracy\"])"
   ]
  },
  {
   "cell_type": "code",
   "execution_count": null,
   "id": "db9fd02b-049c-47cd-8acc-5faa7827d850",
   "metadata": {},
   "outputs": [],
   "source": [
    "callbacks = [EarlyStopping(monitor=\"val_loss\", patience=5)]"
   ]
  },
  {
   "cell_type": "code",
   "execution_count": null,
   "id": "3f754ba1-8eb6-4c5a-9c86-e45fe1ca5b30",
   "metadata": {},
   "outputs": [],
   "source": [
    "history = model.fit(\n",
    "    train_gen, \n",
    "    steps_per_epoch=train_gen.samples // train_gen.batch_size, \n",
    "    epochs=10, \n",
    "    validation_data=valid_gen, \n",
    "    validation_steps=valid_gen.samples // valid_gen.batch_size,\n",
    ")"
   ]
  },
  {
   "cell_type": "code",
   "execution_count": null,
   "id": "03165375-0fc0-4c3d-a5df-85ae27b77ae8",
   "metadata": {},
   "outputs": [],
   "source": [
    "#model.save(\"aquatic.h5\")"
   ]
  },
  {
   "cell_type": "code",
   "execution_count": null,
   "id": "b8e0f960-a429-4484-9da9-cf8d38d2bd74",
   "metadata": {},
   "outputs": [],
   "source": [
    "history_df = pd.DataFrame(history.history)\n",
    "history_df.head()"
   ]
  },
  {
   "cell_type": "code",
   "execution_count": null,
   "id": "56497b53-73bf-4f66-bd8e-cd57dc0e8d23",
   "metadata": {},
   "outputs": [],
   "source": [
    "plt.figure()\n",
    "plt.plot(history.history[\"accuracy\"])\n",
    "plt.plot(history.history[\"val_accuracy\"])\n",
    "plt.xlabel(\"Epoch\")\n",
    "plt.ylabel(\"Accuracy\")\n",
    "plt.legend([\"train\", \"valid\"])\n",
    "plt.show()"
   ]
  },
  {
   "cell_type": "code",
   "execution_count": null,
   "id": "d1cfa223-b957-4972-86d7-a4cd3e4c607d",
   "metadata": {},
   "outputs": [],
   "source": [
    "plt.figure()\n",
    "plt.plot(history.history[\"loss\"])\n",
    "plt.plot(history.history[\"val_loss\"])\n",
    "plt.xlabel(\"Epoch\")\n",
    "plt.ylabel(\"Loss\")\n",
    "plt.legend([\"train\", \"valid\"])\n",
    "plt.show()"
   ]
  },
  {
   "cell_type": "code",
   "execution_count": null,
   "id": "424cdc7a-dd99-4ba1-8652-733b9fa2eabc",
   "metadata": {},
   "outputs": [],
   "source": [
    "test_loss, test_acc = model.evaluate(valid_gen)\n",
    "print('Test accuracy:', test_acc)"
   ]
  },
  {
   "cell_type": "code",
   "execution_count": null,
   "id": "99146fad-ed25-4dd0-b6d8-22a836aa2897",
   "metadata": {},
   "outputs": [],
   "source": []
  }
 ],
 "metadata": {
  "kernelspec": {
   "display_name": "Python 3 (ipykernel)",
   "language": "python",
   "name": "python3"
  },
  "language_info": {
   "codemirror_mode": {
    "name": "ipython",
    "version": 3
   },
   "file_extension": ".py",
   "mimetype": "text/x-python",
   "name": "python",
   "nbconvert_exporter": "python",
   "pygments_lexer": "ipython3",
   "version": "3.10.12"
  }
 },
 "nbformat": 4,
 "nbformat_minor": 5
}
